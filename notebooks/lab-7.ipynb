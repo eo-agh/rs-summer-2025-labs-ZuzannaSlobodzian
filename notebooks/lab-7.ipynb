{
 "cells": [
  {
   "cell_type": "markdown",
   "id": "28ebe069",
   "metadata": {},
   "source": [
    "# # Analiza powodzi w Opolu (2024) z użyciem danych Sentinel-1 SAR"
   ]
  },
  {
   "cell_type": "markdown",
   "id": "58e06f0e",
   "metadata": {},
   "source": [
    "### Cel:\n",
    " - Załaduj dane Sentinel-1 VV sprzed i po powodzi\n",
    " - Przekształć intensywność radaru do jednostki dB\n",
    " - Oblicz różnicę między obrazami\n",
    " - Wydziel obszary z dużym spadkiem VV (potencjalne strefy zalania)"
   ]
  },
  {
   "cell_type": "markdown",
   "id": "15656879",
   "metadata": {},
   "source": [
    "## Krok 1: Import Earth Engine i geemap"
   ]
  },
  {
   "cell_type": "code",
   "execution_count": null,
   "id": "0ca5cb80",
   "metadata": {},
   "outputs": [
    {
     "data": {
      "text/html": [
       "\n",
       "            <style>\n",
       "                .geemap-dark {\n",
       "                    --jp-widgets-color: white;\n",
       "                    --jp-widgets-label-color: white;\n",
       "                    --jp-ui-font-color1: white;\n",
       "                    --jp-layout-color2: #454545;\n",
       "                    background-color: #383838;\n",
       "                }\n",
       "\n",
       "                .geemap-dark .jupyter-button {\n",
       "                    --jp-layout-color3: #383838;\n",
       "                }\n",
       "\n",
       "                .geemap-colab {\n",
       "                    background-color: var(--colab-primary-surface-color, white);\n",
       "                }\n",
       "\n",
       "                .geemap-colab .jupyter-button {\n",
       "                    --jp-layout-color3: var(--colab-primary-surface-color, white);\n",
       "                }\n",
       "            </style>\n",
       "            "
      ],
      "text/plain": [
       "<IPython.core.display.HTML object>"
      ]
     },
     "metadata": {},
     "output_type": "display_data"
    }
   ],
   "source": [
    "import ee\n",
    "import geemap\n",
    "\n",
    "# ee.Authenticate()\n",
    "ee.Initialize(project=\"ee-zuzannaslobodzian2\")"
   ]
  },
  {
   "cell_type": "code",
   "execution_count": 5,
   "id": "cf9e961a",
   "metadata": {},
   "outputs": [
    {
     "data": {
      "text/html": [
       "\n",
       "            <style>\n",
       "                .geemap-dark {\n",
       "                    --jp-widgets-color: white;\n",
       "                    --jp-widgets-label-color: white;\n",
       "                    --jp-ui-font-color1: white;\n",
       "                    --jp-layout-color2: #454545;\n",
       "                    background-color: #383838;\n",
       "                }\n",
       "\n",
       "                .geemap-dark .jupyter-button {\n",
       "                    --jp-layout-color3: #383838;\n",
       "                }\n",
       "\n",
       "                .geemap-colab {\n",
       "                    background-color: var(--colab-primary-surface-color, white);\n",
       "                }\n",
       "\n",
       "                .geemap-colab .jupyter-button {\n",
       "                    --jp-layout-color3: var(--colab-primary-surface-color, white);\n",
       "                }\n",
       "            </style>\n",
       "            "
      ],
      "text/plain": [
       "<IPython.core.display.HTML object>"
      ]
     },
     "metadata": {},
     "output_type": "display_data"
    }
   ],
   "source": [
    "region = ee.Geometry.Point([17.931, 50.675])"
   ]
  },
  {
   "cell_type": "markdown",
   "id": "3c44bcf5",
   "metadata": {},
   "source": [
    "## Krok 2: Załaduj obrazy Sentinel-1 VV (przed i po powodzi)"
   ]
  },
  {
   "cell_type": "code",
   "execution_count": 11,
   "id": "10f66365",
   "metadata": {},
   "outputs": [
    {
     "data": {
      "text/html": [
       "\n",
       "            <style>\n",
       "                .geemap-dark {\n",
       "                    --jp-widgets-color: white;\n",
       "                    --jp-widgets-label-color: white;\n",
       "                    --jp-ui-font-color1: white;\n",
       "                    --jp-layout-color2: #454545;\n",
       "                    background-color: #383838;\n",
       "                }\n",
       "\n",
       "                .geemap-dark .jupyter-button {\n",
       "                    --jp-layout-color3: #383838;\n",
       "                }\n",
       "\n",
       "                .geemap-colab {\n",
       "                    background-color: var(--colab-primary-surface-color, white);\n",
       "                }\n",
       "\n",
       "                .geemap-colab .jupyter-button {\n",
       "                    --jp-layout-color3: var(--colab-primary-surface-color, white);\n",
       "                }\n",
       "            </style>\n",
       "            "
      ],
      "text/plain": [
       "<IPython.core.display.HTML object>"
      ]
     },
     "metadata": {},
     "output_type": "display_data"
    }
   ],
   "source": [
    "image_before = (ee.ImageCollection('COPERNICUS/S1_GRD')\n",
    "            .filterBounds(region)\n",
    "            .filterDate('2024-08-01', '2024-08-15')\n",
    "            .filter(ee.Filter.listContains('transmitterReceiverPolarisation', 'VV'))\n",
    "            .filter(ee.Filter.eq('instrumentMode', 'IW'))\n",
    "            .select('VV')\n",
    "            .mean())\n",
    "\n",
    "image_after = (ee.ImageCollection('COPERNICUS/S1_GRD')\n",
    "            .filterBounds(region)\n",
    "            .filterDate('2024-10-01', '2024-10-15')\n",
    "            .filter(ee.Filter.listContains('transmitterReceiverPolarisation', 'VV'))\n",
    "            .filter(ee.Filter.eq('instrumentMode', 'IW'))\n",
    "            .select('VV')\n",
    "            .mean())"
   ]
  },
  {
   "cell_type": "markdown",
   "id": "f5550670",
   "metadata": {},
   "source": [
    "## Krok 3: Przekształć dane do skali dB"
   ]
  },
  {
   "cell_type": "code",
   "execution_count": 12,
   "id": "fbd81264",
   "metadata": {},
   "outputs": [
    {
     "data": {
      "text/html": [
       "\n",
       "            <style>\n",
       "                .geemap-dark {\n",
       "                    --jp-widgets-color: white;\n",
       "                    --jp-widgets-label-color: white;\n",
       "                    --jp-ui-font-color1: white;\n",
       "                    --jp-layout-color2: #454545;\n",
       "                    background-color: #383838;\n",
       "                }\n",
       "\n",
       "                .geemap-dark .jupyter-button {\n",
       "                    --jp-layout-color3: #383838;\n",
       "                }\n",
       "\n",
       "                .geemap-colab {\n",
       "                    background-color: var(--colab-primary-surface-color, white);\n",
       "                }\n",
       "\n",
       "                .geemap-colab .jupyter-button {\n",
       "                    --jp-layout-color3: var(--colab-primary-surface-color, white);\n",
       "                }\n",
       "            </style>\n",
       "            "
      ],
      "text/plain": [
       "<IPython.core.display.HTML object>"
      ]
     },
     "metadata": {},
     "output_type": "display_data"
    }
   ],
   "source": [
    "dB_before = image_before.log10().multiply(10)\n",
    "dB_after = image_after.log10().multiply(10)"
   ]
  },
  {
   "cell_type": "markdown",
   "id": "8c5b9e15",
   "metadata": {},
   "source": [
    "## Krok 4: Oblicz różnicę i wydziel obszary potencjalnej powodzi"
   ]
  },
  {
   "cell_type": "code",
   "execution_count": 13,
   "id": "bbfb9e19",
   "metadata": {},
   "outputs": [
    {
     "data": {
      "text/html": [
       "\n",
       "            <style>\n",
       "                .geemap-dark {\n",
       "                    --jp-widgets-color: white;\n",
       "                    --jp-widgets-label-color: white;\n",
       "                    --jp-ui-font-color1: white;\n",
       "                    --jp-layout-color2: #454545;\n",
       "                    background-color: #383838;\n",
       "                }\n",
       "\n",
       "                .geemap-dark .jupyter-button {\n",
       "                    --jp-layout-color3: #383838;\n",
       "                }\n",
       "\n",
       "                .geemap-colab {\n",
       "                    background-color: var(--colab-primary-surface-color, white);\n",
       "                }\n",
       "\n",
       "                .geemap-colab .jupyter-button {\n",
       "                    --jp-layout-color3: var(--colab-primary-surface-color, white);\n",
       "                }\n",
       "            </style>\n",
       "            "
      ],
      "text/plain": [
       "<IPython.core.display.HTML object>"
      ]
     },
     "metadata": {},
     "output_type": "display_data"
    }
   ],
   "source": [
    "diff = dB_before.subtract(dB_after)\n",
    "flood_mask = diff.gt(3)"
   ]
  },
  {
   "cell_type": "markdown",
   "id": "2417fe50",
   "metadata": {},
   "source": [
    "## Krok 5: Wizualizacja wyników"
   ]
  },
  {
   "cell_type": "code",
   "execution_count": 15,
   "id": "8b9416ed",
   "metadata": {},
   "outputs": [
    {
     "data": {
      "text/html": [
       "\n",
       "            <style>\n",
       "                .geemap-dark {\n",
       "                    --jp-widgets-color: white;\n",
       "                    --jp-widgets-label-color: white;\n",
       "                    --jp-ui-font-color1: white;\n",
       "                    --jp-layout-color2: #454545;\n",
       "                    background-color: #383838;\n",
       "                }\n",
       "\n",
       "                .geemap-dark .jupyter-button {\n",
       "                    --jp-layout-color3: #383838;\n",
       "                }\n",
       "\n",
       "                .geemap-colab {\n",
       "                    background-color: var(--colab-primary-surface-color, white);\n",
       "                }\n",
       "\n",
       "                .geemap-colab .jupyter-button {\n",
       "                    --jp-layout-color3: var(--colab-primary-surface-color, white);\n",
       "                }\n",
       "            </style>\n",
       "            "
      ],
      "text/plain": [
       "<IPython.core.display.HTML object>"
      ]
     },
     "metadata": {},
     "output_type": "display_data"
    },
    {
     "data": {
      "application/vnd.jupyter.widget-view+json": {
       "model_id": "fe60aec629a44e21a3b1a970e0b0ee61",
       "version_major": 2,
       "version_minor": 0
      },
      "text/plain": [
       "Map(center=[50.675, 17.931], controls=(WidgetControl(options=['position', 'transparent_bg'], widget=SearchData…"
      ]
     },
     "execution_count": 15,
     "metadata": {},
     "output_type": "execute_result"
    }
   ],
   "source": [
    "Map = geemap.Map(center=[50.675, 17.931], zoom=12)\n",
    "vis_params = {'min': -25, 'max': 0}\n",
    "\n",
    "Map.addLayer(dB_before, vis_params, 'before the flood')\n",
    "Map.addLayer(dB_after, vis_params, 'after the flood')\n",
    "Map.addLayer(diff, {'min': -5, 'max': 5, 'palette': ['red', 'white', 'blue']}, 'difference')\n",
    "Map.addLayer(flood_mask.selfMask(), {'palette': ['cyan']}, 'potential flood')\n",
    "\n",
    "Map"
   ]
  }
 ],
 "metadata": {
  "kernelspec": {
   "display_name": "eo_lab",
   "language": "python",
   "name": "python3"
  },
  "language_info": {
   "codemirror_mode": {
    "name": "ipython",
    "version": 3
   },
   "file_extension": ".py",
   "mimetype": "text/x-python",
   "name": "python",
   "nbconvert_exporter": "python",
   "pygments_lexer": "ipython3",
   "version": "3.9.21"
  }
 },
 "nbformat": 4,
 "nbformat_minor": 5
}
