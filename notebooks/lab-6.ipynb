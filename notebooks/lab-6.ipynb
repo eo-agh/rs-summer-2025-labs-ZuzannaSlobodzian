{
 "cells": [
  {
   "cell_type": "markdown",
   "id": "47c657de",
   "metadata": {},
   "source": [
    "\n",
    "# 🌍 Manual TOA Reflectance from Landsat 8\n",
    "\n",
    "## 🎯 Learning Objectives:\n",
    "- Load Landsat 8 Level-1 data from Earth Engine\n",
    "- Understand the process of converting DN values to radiance\n",
    "- Compute Top-of-Atmosphere (TOA) reflectance from radiance\n",
    "- Visualize results on an interactive map using `geemap`\n",
    "\n",
    "---\n",
    "\n",
    "## 📝 Your Tasks:\n",
    "1. Load a Landsat 8 Level-1 image over Kraków in July 2021.\n",
    "2. From metadata, extract the scaling coefficients for each band (RADIANCE_MULT, RADIANCE_ADD).\n",
    "3. Convert DN to Radiance using the linear formula.\n",
    "4. Use the ESUN values and solar elevation to convert Radiance to TOA Reflectance.\n",
    "5. Visualize both the original DN RGB and your TOA Reflectance RGB image.\n",
    "6. (Optional) Try using a different location or time range.\n"
   ]
  },
  {
   "cell_type": "code",
   "execution_count": 14,
   "id": "5c9ef311",
   "metadata": {},
   "outputs": [
    {
     "data": {
      "text/html": [
       "\n",
       "            <style>\n",
       "                .geemap-dark {\n",
       "                    --jp-widgets-color: white;\n",
       "                    --jp-widgets-label-color: white;\n",
       "                    --jp-ui-font-color1: white;\n",
       "                    --jp-layout-color2: #454545;\n",
       "                    background-color: #383838;\n",
       "                }\n",
       "\n",
       "                .geemap-dark .jupyter-button {\n",
       "                    --jp-layout-color3: #383838;\n",
       "                }\n",
       "\n",
       "                .geemap-colab {\n",
       "                    background-color: var(--colab-primary-surface-color, white);\n",
       "                }\n",
       "\n",
       "                .geemap-colab .jupyter-button {\n",
       "                    --jp-layout-color3: var(--colab-primary-surface-color, white);\n",
       "                }\n",
       "            </style>\n",
       "            "
      ],
      "text/plain": [
       "<IPython.core.display.HTML object>"
      ]
     },
     "metadata": {},
     "output_type": "display_data"
    }
   ],
   "source": [
    "import ee\n",
    "import geemap\n",
    "import math\n",
    "\n",
    "# ee.Authenticate()\n",
    "ee.Initialize(project=\"ee-zuzannaslobodzian2\")"
   ]
  },
  {
   "cell_type": "markdown",
   "id": "34ab523d",
   "metadata": {},
   "source": [
    "\n",
    "## 🗺️ Step 1: Define Area of Interest (AOI)\n",
    "\n",
    "Use Kraków (Poland) as your starting point. You can define this using a point geometry.\n"
   ]
  },
  {
   "cell_type": "code",
   "execution_count": 3,
   "id": "326abd7d",
   "metadata": {},
   "outputs": [
    {
     "data": {
      "text/html": [
       "\n",
       "            <style>\n",
       "                .geemap-dark {\n",
       "                    --jp-widgets-color: white;\n",
       "                    --jp-widgets-label-color: white;\n",
       "                    --jp-ui-font-color1: white;\n",
       "                    --jp-layout-color2: #454545;\n",
       "                    background-color: #383838;\n",
       "                }\n",
       "\n",
       "                .geemap-dark .jupyter-button {\n",
       "                    --jp-layout-color3: #383838;\n",
       "                }\n",
       "\n",
       "                .geemap-colab {\n",
       "                    background-color: var(--colab-primary-surface-color, white);\n",
       "                }\n",
       "\n",
       "                .geemap-colab .jupyter-button {\n",
       "                    --jp-layout-color3: var(--colab-primary-surface-color, white);\n",
       "                }\n",
       "            </style>\n",
       "            "
      ],
      "text/plain": [
       "<IPython.core.display.HTML object>"
      ]
     },
     "metadata": {},
     "output_type": "display_data"
    }
   ],
   "source": [
    "aoi = ee.Geometry.Point([19.937803, 50.061634])"
   ]
  },
  {
   "cell_type": "markdown",
   "id": "37768612",
   "metadata": {},
   "source": [
    "\n",
    "## 📦 Step 2: Load Landsat 8 Level-1 Image (Collection 2)\n",
    "\n",
    "Load the `LANDSAT/LC08/C02/T1_L1` collection, filter for July 2021, and select the image with the least cloud cover.\n"
   ]
  },
  {
   "cell_type": "code",
   "execution_count": 89,
   "id": "500562fd",
   "metadata": {},
   "outputs": [
    {
     "data": {
      "text/html": [
       "\n",
       "            <style>\n",
       "                .geemap-dark {\n",
       "                    --jp-widgets-color: white;\n",
       "                    --jp-widgets-label-color: white;\n",
       "                    --jp-ui-font-color1: white;\n",
       "                    --jp-layout-color2: #454545;\n",
       "                    background-color: #383838;\n",
       "                }\n",
       "\n",
       "                .geemap-dark .jupyter-button {\n",
       "                    --jp-layout-color3: #383838;\n",
       "                }\n",
       "\n",
       "                .geemap-colab {\n",
       "                    background-color: var(--colab-primary-surface-color, white);\n",
       "                }\n",
       "\n",
       "                .geemap-colab .jupyter-button {\n",
       "                    --jp-layout-color3: var(--colab-primary-surface-color, white);\n",
       "                }\n",
       "            </style>\n",
       "            "
      ],
      "text/plain": [
       "<IPython.core.display.HTML object>"
      ]
     },
     "metadata": {},
     "output_type": "display_data"
    },
    {
     "data": {
      "text/html": [
       "<div><style>:root {\n",
       "  --font-color-primary: var(--jp-content-font-color0, rgba(0, 0, 0, 1));\n",
       "  --font-color-secondary: var(--jp-content-font-color2, rgba(0, 0, 0, 0.7));\n",
       "  --font-color-accent: rgba(123, 31, 162, 1);\n",
       "  --border-color: var(--jp-border-color2, #e0e0e0);\n",
       "  --background-color: var(--jp-layout-color0, white);\n",
       "  --background-color-row-even: var(--jp-layout-color1, white);\n",
       "  --background-color-row-odd: var(--jp-layout-color2, #eeeeee);\n",
       "}\n",
       "\n",
       "html[theme=\"dark\"],\n",
       "body[data-theme=\"dark\"],\n",
       "body.vscode-dark {\n",
       "  --font-color-primary: rgba(255, 255, 255, 1);\n",
       "  --font-color-secondary: rgba(255, 255, 255, 0.7);\n",
       "  --font-color-accent: rgb(173, 132, 190);\n",
       "  --border-color: #2e2e2e;\n",
       "  --background-color: #111111;\n",
       "  --background-color-row-even: #111111;\n",
       "  --background-color-row-odd: #313131;\n",
       "}\n",
       "\n",
       ".eerepr {\n",
       "  padding: 1em;\n",
       "  line-height: 1.5em;\n",
       "  min-width: 300px;\n",
       "  max-width: 1200px;\n",
       "  overflow-y: scroll;\n",
       "  max-height: 600px;\n",
       "  border: 1px solid var(--border-color);\n",
       "  font-family: monospace;\n",
       "  font-size: 14px;\n",
       "}\n",
       "\n",
       ".eerepr li {\n",
       "  list-style-type: none;\n",
       "  margin: 0;\n",
       "}\n",
       "\n",
       ".eerepr ul {\n",
       "  padding-left: 1.5em !important;\n",
       "  margin: 0;\n",
       "}\n",
       "\n",
       ".eerepr > ul {\n",
       "  padding-left: 0 !important;\n",
       "}\n",
       "\n",
       ".eerepr summary {\n",
       "  color: var(--font-color-secondary);\n",
       "  cursor: pointer;\n",
       "  margin: 0;\n",
       "}\n",
       "\n",
       ".eerepr summary:hover {\n",
       "  color: var(--font-color-primary);\n",
       "  background-color: var(--background-color-row-odd)\n",
       "}\n",
       "\n",
       ".ee-k {\n",
       "  color: var(--font-color-accent);\n",
       "  margin-right: 6px;\n",
       "}\n",
       "\n",
       ".ee-v {\n",
       "  color: var(--font-color-primary);\n",
       "}\n",
       "\n",
       ".eerepr details > summary::before {\n",
       "  content: '▼';\n",
       "  display: inline-block;\n",
       "  margin-right: 6px;\n",
       "  transition: transform 0.2s;\n",
       "  transform: rotate(-90deg);\n",
       "}\n",
       "\n",
       ".eerepr details[open] > summary::before {\n",
       "  transform: rotate(0deg);\n",
       "}\n",
       "\n",
       ".eerepr details summary::-webkit-details-marker {\n",
       "  display:none;\n",
       "}\n",
       "\n",
       ".eerepr details summary {\n",
       "  list-style-type: none;\n",
       "}\n",
       "</style><div class='eerepr'><ul><li><details><summary>Image LANDSAT/LC08/C02/T1/LC08_188025_20210813 (17 bands)</summary><ul><li><span class='ee-k'>type:</span><span class='ee-v'>Image</span></li><li><span class='ee-k'>id:</span><span class='ee-v'>LANDSAT/LC08/C02/T1/LC08_188025_20210813</span></li><li><span class='ee-k'>version:</span><span class='ee-v'>1742264056610223</span></li><li><details><summary>bands: List (17 elements)</summary><ul><li><details><summary>0: \"B1\", unsigned int16, EPSG:32634, 7961x8051 px</summary><ul><li><span class='ee-k'>id:</span><span class='ee-v'>B1</span></li><li><span class='ee-k'>crs:</span><span class='ee-v'>EPSG:32634</span></li><li><details><summary>crs_transform: [30, 0, 305385, 0, -30, 5690715]</summary><ul><li><span class='ee-k'>0:</span><span class='ee-v'>30</span></li><li><span class='ee-k'>1:</span><span class='ee-v'>0</span></li><li><span class='ee-k'>2:</span><span class='ee-v'>305385</span></li><li><span class='ee-k'>3:</span><span class='ee-v'>0</span></li><li><span class='ee-k'>4:</span><span class='ee-v'>-30</span></li><li><span class='ee-k'>5:</span><span class='ee-v'>5690715</span></li></ul></details></li><li><details><summary>data_type: unsigned int16</summary><ul><li><span class='ee-k'>type:</span><span class='ee-v'>PixelType</span></li><li><span class='ee-k'>max:</span><span class='ee-v'>65535</span></li><li><span class='ee-k'>min:</span><span class='ee-v'>0</span></li><li><span class='ee-k'>precision:</span><span class='ee-v'>int</span></li></ul></details></li><li><details><summary>dimensions: [7961, 8051]</summary><ul><li><span class='ee-k'>0:</span><span class='ee-v'>7961</span></li><li><span class='ee-k'>1:</span><span class='ee-v'>8051</span></li></ul></details></li></ul></details></li><li><details><summary>1: \"B2\", unsigned int16, EPSG:32634, 7961x8051 px</summary><ul><li><span class='ee-k'>id:</span><span class='ee-v'>B2</span></li><li><span class='ee-k'>crs:</span><span class='ee-v'>EPSG:32634</span></li><li><details><summary>crs_transform: [30, 0, 305385, 0, -30, 5690715]</summary><ul><li><span class='ee-k'>0:</span><span class='ee-v'>30</span></li><li><span class='ee-k'>1:</span><span class='ee-v'>0</span></li><li><span class='ee-k'>2:</span><span class='ee-v'>305385</span></li><li><span class='ee-k'>3:</span><span class='ee-v'>0</span></li><li><span class='ee-k'>4:</span><span class='ee-v'>-30</span></li><li><span class='ee-k'>5:</span><span class='ee-v'>5690715</span></li></ul></details></li><li><details><summary>data_type: unsigned int16</summary><ul><li><span class='ee-k'>type:</span><span class='ee-v'>PixelType</span></li><li><span class='ee-k'>max:</span><span class='ee-v'>65535</span></li><li><span class='ee-k'>min:</span><span class='ee-v'>0</span></li><li><span class='ee-k'>precision:</span><span class='ee-v'>int</span></li></ul></details></li><li><details><summary>dimensions: [7961, 8051]</summary><ul><li><span class='ee-k'>0:</span><span class='ee-v'>7961</span></li><li><span class='ee-k'>1:</span><span class='ee-v'>8051</span></li></ul></details></li></ul></details></li><li><details><summary>2: \"B3\", unsigned int16, EPSG:32634, 7961x8051 px</summary><ul><li><span class='ee-k'>id:</span><span class='ee-v'>B3</span></li><li><span class='ee-k'>crs:</span><span class='ee-v'>EPSG:32634</span></li><li><details><summary>crs_transform: [30, 0, 305385, 0, -30, 5690715]</summary><ul><li><span class='ee-k'>0:</span><span class='ee-v'>30</span></li><li><span class='ee-k'>1:</span><span class='ee-v'>0</span></li><li><span class='ee-k'>2:</span><span class='ee-v'>305385</span></li><li><span class='ee-k'>3:</span><span class='ee-v'>0</span></li><li><span class='ee-k'>4:</span><span class='ee-v'>-30</span></li><li><span class='ee-k'>5:</span><span class='ee-v'>5690715</span></li></ul></details></li><li><details><summary>data_type: unsigned int16</summary><ul><li><span class='ee-k'>type:</span><span class='ee-v'>PixelType</span></li><li><span class='ee-k'>max:</span><span class='ee-v'>65535</span></li><li><span class='ee-k'>min:</span><span class='ee-v'>0</span></li><li><span class='ee-k'>precision:</span><span class='ee-v'>int</span></li></ul></details></li><li><details><summary>dimensions: [7961, 8051]</summary><ul><li><span class='ee-k'>0:</span><span class='ee-v'>7961</span></li><li><span class='ee-k'>1:</span><span class='ee-v'>8051</span></li></ul></details></li></ul></details></li><li><details><summary>3: \"B4\", unsigned int16, EPSG:32634, 7961x8051 px</summary><ul><li><span class='ee-k'>id:</span><span class='ee-v'>B4</span></li><li><span class='ee-k'>crs:</span><span class='ee-v'>EPSG:32634</span></li><li><details><summary>crs_transform: [30, 0, 305385, 0, -30, 5690715]</summary><ul><li><span class='ee-k'>0:</span><span class='ee-v'>30</span></li><li><span class='ee-k'>1:</span><span class='ee-v'>0</span></li><li><span class='ee-k'>2:</span><span class='ee-v'>305385</span></li><li><span class='ee-k'>3:</span><span class='ee-v'>0</span></li><li><span class='ee-k'>4:</span><span class='ee-v'>-30</span></li><li><span class='ee-k'>5:</span><span class='ee-v'>5690715</span></li></ul></details></li><li><details><summary>data_type: unsigned int16</summary><ul><li><span class='ee-k'>type:</span><span class='ee-v'>PixelType</span></li><li><span class='ee-k'>max:</span><span class='ee-v'>65535</span></li><li><span class='ee-k'>min:</span><span class='ee-v'>0</span></li><li><span class='ee-k'>precision:</span><span class='ee-v'>int</span></li></ul></details></li><li><details><summary>dimensions: [7961, 8051]</summary><ul><li><span class='ee-k'>0:</span><span class='ee-v'>7961</span></li><li><span class='ee-k'>1:</span><span class='ee-v'>8051</span></li></ul></details></li></ul></details></li><li><details><summary>4: \"B5\", unsigned int16, EPSG:32634, 7961x8051 px</summary><ul><li><span class='ee-k'>id:</span><span class='ee-v'>B5</span></li><li><span class='ee-k'>crs:</span><span class='ee-v'>EPSG:32634</span></li><li><details><summary>crs_transform: [30, 0, 305385, 0, -30, 5690715]</summary><ul><li><span class='ee-k'>0:</span><span class='ee-v'>30</span></li><li><span class='ee-k'>1:</span><span class='ee-v'>0</span></li><li><span class='ee-k'>2:</span><span class='ee-v'>305385</span></li><li><span class='ee-k'>3:</span><span class='ee-v'>0</span></li><li><span class='ee-k'>4:</span><span class='ee-v'>-30</span></li><li><span class='ee-k'>5:</span><span class='ee-v'>5690715</span></li></ul></details></li><li><details><summary>data_type: unsigned int16</summary><ul><li><span class='ee-k'>type:</span><span class='ee-v'>PixelType</span></li><li><span class='ee-k'>max:</span><span class='ee-v'>65535</span></li><li><span class='ee-k'>min:</span><span class='ee-v'>0</span></li><li><span class='ee-k'>precision:</span><span class='ee-v'>int</span></li></ul></details></li><li><details><summary>dimensions: [7961, 8051]</summary><ul><li><span class='ee-k'>0:</span><span class='ee-v'>7961</span></li><li><span class='ee-k'>1:</span><span class='ee-v'>8051</span></li></ul></details></li></ul></details></li><li><details><summary>5: \"B6\", unsigned int16, EPSG:32634, 7961x8051 px</summary><ul><li><span class='ee-k'>id:</span><span class='ee-v'>B6</span></li><li><span class='ee-k'>crs:</span><span class='ee-v'>EPSG:32634</span></li><li><details><summary>crs_transform: [30, 0, 305385, 0, -30, 5690715]</summary><ul><li><span class='ee-k'>0:</span><span class='ee-v'>30</span></li><li><span class='ee-k'>1:</span><span class='ee-v'>0</span></li><li><span class='ee-k'>2:</span><span class='ee-v'>305385</span></li><li><span class='ee-k'>3:</span><span class='ee-v'>0</span></li><li><span class='ee-k'>4:</span><span class='ee-v'>-30</span></li><li><span class='ee-k'>5:</span><span class='ee-v'>5690715</span></li></ul></details></li><li><details><summary>data_type: unsigned int16</summary><ul><li><span class='ee-k'>type:</span><span class='ee-v'>PixelType</span></li><li><span class='ee-k'>max:</span><span class='ee-v'>65535</span></li><li><span class='ee-k'>min:</span><span class='ee-v'>0</span></li><li><span class='ee-k'>precision:</span><span class='ee-v'>int</span></li></ul></details></li><li><details><summary>dimensions: [7961, 8051]</summary><ul><li><span class='ee-k'>0:</span><span class='ee-v'>7961</span></li><li><span class='ee-k'>1:</span><span class='ee-v'>8051</span></li></ul></details></li></ul></details></li><li><details><summary>6: \"B7\", unsigned int16, EPSG:32634, 7961x8051 px</summary><ul><li><span class='ee-k'>id:</span><span class='ee-v'>B7</span></li><li><span class='ee-k'>crs:</span><span class='ee-v'>EPSG:32634</span></li><li><details><summary>crs_transform: [30, 0, 305385, 0, -30, 5690715]</summary><ul><li><span class='ee-k'>0:</span><span class='ee-v'>30</span></li><li><span class='ee-k'>1:</span><span class='ee-v'>0</span></li><li><span class='ee-k'>2:</span><span class='ee-v'>305385</span></li><li><span class='ee-k'>3:</span><span class='ee-v'>0</span></li><li><span class='ee-k'>4:</span><span class='ee-v'>-30</span></li><li><span class='ee-k'>5:</span><span class='ee-v'>5690715</span></li></ul></details></li><li><details><summary>data_type: unsigned int16</summary><ul><li><span class='ee-k'>type:</span><span class='ee-v'>PixelType</span></li><li><span class='ee-k'>max:</span><span class='ee-v'>65535</span></li><li><span class='ee-k'>min:</span><span class='ee-v'>0</span></li><li><span class='ee-k'>precision:</span><span class='ee-v'>int</span></li></ul></details></li><li><details><summary>dimensions: [7961, 8051]</summary><ul><li><span class='ee-k'>0:</span><span class='ee-v'>7961</span></li><li><span class='ee-k'>1:</span><span class='ee-v'>8051</span></li></ul></details></li></ul></details></li><li><details><summary>7: \"B8\", unsigned int16, EPSG:32634, 15921x16101 px</summary><ul><li><span class='ee-k'>id:</span><span class='ee-v'>B8</span></li><li><span class='ee-k'>crs:</span><span class='ee-v'>EPSG:32634</span></li><li><details><summary>crs_transform: [15, 0, 305392.5, 0, -15, 5690707.5]</summary><ul><li><span class='ee-k'>0:</span><span class='ee-v'>15</span></li><li><span class='ee-k'>1:</span><span class='ee-v'>0</span></li><li><span class='ee-k'>2:</span><span class='ee-v'>305392.5</span></li><li><span class='ee-k'>3:</span><span class='ee-v'>0</span></li><li><span class='ee-k'>4:</span><span class='ee-v'>-15</span></li><li><span class='ee-k'>5:</span><span class='ee-v'>5690707.5</span></li></ul></details></li><li><details><summary>data_type: unsigned int16</summary><ul><li><span class='ee-k'>type:</span><span class='ee-v'>PixelType</span></li><li><span class='ee-k'>max:</span><span class='ee-v'>65535</span></li><li><span class='ee-k'>min:</span><span class='ee-v'>0</span></li><li><span class='ee-k'>precision:</span><span class='ee-v'>int</span></li></ul></details></li><li><details><summary>dimensions: [15921, 16101]</summary><ul><li><span class='ee-k'>0:</span><span class='ee-v'>15921</span></li><li><span class='ee-k'>1:</span><span class='ee-v'>16101</span></li></ul></details></li></ul></details></li><li><details><summary>8: \"B9\", unsigned int16, EPSG:32634, 7961x8051 px</summary><ul><li><span class='ee-k'>id:</span><span class='ee-v'>B9</span></li><li><span class='ee-k'>crs:</span><span class='ee-v'>EPSG:32634</span></li><li><details><summary>crs_transform: [30, 0, 305385, 0, -30, 5690715]</summary><ul><li><span class='ee-k'>0:</span><span class='ee-v'>30</span></li><li><span class='ee-k'>1:</span><span class='ee-v'>0</span></li><li><span class='ee-k'>2:</span><span class='ee-v'>305385</span></li><li><span class='ee-k'>3:</span><span class='ee-v'>0</span></li><li><span class='ee-k'>4:</span><span class='ee-v'>-30</span></li><li><span class='ee-k'>5:</span><span class='ee-v'>5690715</span></li></ul></details></li><li><details><summary>data_type: unsigned int16</summary><ul><li><span class='ee-k'>type:</span><span class='ee-v'>PixelType</span></li><li><span class='ee-k'>max:</span><span class='ee-v'>65535</span></li><li><span class='ee-k'>min:</span><span class='ee-v'>0</span></li><li><span class='ee-k'>precision:</span><span class='ee-v'>int</span></li></ul></details></li><li><details><summary>dimensions: [7961, 8051]</summary><ul><li><span class='ee-k'>0:</span><span class='ee-v'>7961</span></li><li><span class='ee-k'>1:</span><span class='ee-v'>8051</span></li></ul></details></li></ul></details></li><li><details><summary>9: \"B10\", unsigned int16, EPSG:32634, 7961x8051 px</summary><ul><li><span class='ee-k'>id:</span><span class='ee-v'>B10</span></li><li><span class='ee-k'>crs:</span><span class='ee-v'>EPSG:32634</span></li><li><details><summary>crs_transform: [30, 0, 305385, 0, -30, 5690715]</summary><ul><li><span class='ee-k'>0:</span><span class='ee-v'>30</span></li><li><span class='ee-k'>1:</span><span class='ee-v'>0</span></li><li><span class='ee-k'>2:</span><span class='ee-v'>305385</span></li><li><span class='ee-k'>3:</span><span class='ee-v'>0</span></li><li><span class='ee-k'>4:</span><span class='ee-v'>-30</span></li><li><span class='ee-k'>5:</span><span class='ee-v'>5690715</span></li></ul></details></li><li><details><summary>data_type: unsigned int16</summary><ul><li><span class='ee-k'>type:</span><span class='ee-v'>PixelType</span></li><li><span class='ee-k'>max:</span><span class='ee-v'>65535</span></li><li><span class='ee-k'>min:</span><span class='ee-v'>0</span></li><li><span class='ee-k'>precision:</span><span class='ee-v'>int</span></li></ul></details></li><li><details><summary>dimensions: [7961, 8051]</summary><ul><li><span class='ee-k'>0:</span><span class='ee-v'>7961</span></li><li><span class='ee-k'>1:</span><span class='ee-v'>8051</span></li></ul></details></li></ul></details></li><li><details><summary>10: \"B11\", unsigned int16, EPSG:32634, 7961x8051 px</summary><ul><li><span class='ee-k'>id:</span><span class='ee-v'>B11</span></li><li><span class='ee-k'>crs:</span><span class='ee-v'>EPSG:32634</span></li><li><details><summary>crs_transform: [30, 0, 305385, 0, -30, 5690715]</summary><ul><li><span class='ee-k'>0:</span><span class='ee-v'>30</span></li><li><span class='ee-k'>1:</span><span class='ee-v'>0</span></li><li><span class='ee-k'>2:</span><span class='ee-v'>305385</span></li><li><span class='ee-k'>3:</span><span class='ee-v'>0</span></li><li><span class='ee-k'>4:</span><span class='ee-v'>-30</span></li><li><span class='ee-k'>5:</span><span class='ee-v'>5690715</span></li></ul></details></li><li><details><summary>data_type: unsigned int16</summary><ul><li><span class='ee-k'>type:</span><span class='ee-v'>PixelType</span></li><li><span class='ee-k'>max:</span><span class='ee-v'>65535</span></li><li><span class='ee-k'>min:</span><span class='ee-v'>0</span></li><li><span class='ee-k'>precision:</span><span class='ee-v'>int</span></li></ul></details></li><li><details><summary>dimensions: [7961, 8051]</summary><ul><li><span class='ee-k'>0:</span><span class='ee-v'>7961</span></li><li><span class='ee-k'>1:</span><span class='ee-v'>8051</span></li></ul></details></li></ul></details></li><li><details><summary>11: \"QA_PIXEL\", unsigned int16, EPSG:32634, 7961x8051 px</summary><ul><li><span class='ee-k'>id:</span><span class='ee-v'>QA_PIXEL</span></li><li><span class='ee-k'>crs:</span><span class='ee-v'>EPSG:32634</span></li><li><details><summary>crs_transform: [30, 0, 305385, 0, -30, 5690715]</summary><ul><li><span class='ee-k'>0:</span><span class='ee-v'>30</span></li><li><span class='ee-k'>1:</span><span class='ee-v'>0</span></li><li><span class='ee-k'>2:</span><span class='ee-v'>305385</span></li><li><span class='ee-k'>3:</span><span class='ee-v'>0</span></li><li><span class='ee-k'>4:</span><span class='ee-v'>-30</span></li><li><span class='ee-k'>5:</span><span class='ee-v'>5690715</span></li></ul></details></li><li><details><summary>data_type: unsigned int16</summary><ul><li><span class='ee-k'>type:</span><span class='ee-v'>PixelType</span></li><li><span class='ee-k'>max:</span><span class='ee-v'>65535</span></li><li><span class='ee-k'>min:</span><span class='ee-v'>0</span></li><li><span class='ee-k'>precision:</span><span class='ee-v'>int</span></li></ul></details></li><li><details><summary>dimensions: [7961, 8051]</summary><ul><li><span class='ee-k'>0:</span><span class='ee-v'>7961</span></li><li><span class='ee-k'>1:</span><span class='ee-v'>8051</span></li></ul></details></li></ul></details></li><li><details><summary>12: \"QA_RADSAT\", unsigned int16, EPSG:32634, 7961x8051 px</summary><ul><li><span class='ee-k'>id:</span><span class='ee-v'>QA_RADSAT</span></li><li><span class='ee-k'>crs:</span><span class='ee-v'>EPSG:32634</span></li><li><details><summary>crs_transform: [30, 0, 305385, 0, -30, 5690715]</summary><ul><li><span class='ee-k'>0:</span><span class='ee-v'>30</span></li><li><span class='ee-k'>1:</span><span class='ee-v'>0</span></li><li><span class='ee-k'>2:</span><span class='ee-v'>305385</span></li><li><span class='ee-k'>3:</span><span class='ee-v'>0</span></li><li><span class='ee-k'>4:</span><span class='ee-v'>-30</span></li><li><span class='ee-k'>5:</span><span class='ee-v'>5690715</span></li></ul></details></li><li><details><summary>data_type: unsigned int16</summary><ul><li><span class='ee-k'>type:</span><span class='ee-v'>PixelType</span></li><li><span class='ee-k'>max:</span><span class='ee-v'>65535</span></li><li><span class='ee-k'>min:</span><span class='ee-v'>0</span></li><li><span class='ee-k'>precision:</span><span class='ee-v'>int</span></li></ul></details></li><li><details><summary>dimensions: [7961, 8051]</summary><ul><li><span class='ee-k'>0:</span><span class='ee-v'>7961</span></li><li><span class='ee-k'>1:</span><span class='ee-v'>8051</span></li></ul></details></li></ul></details></li><li><details><summary>13: \"SAA\", signed int16, EPSG:32634, 7961x8051 px</summary><ul><li><span class='ee-k'>id:</span><span class='ee-v'>SAA</span></li><li><span class='ee-k'>crs:</span><span class='ee-v'>EPSG:32634</span></li><li><details><summary>crs_transform: [30, 0, 305385, 0, -30, 5690715]</summary><ul><li><span class='ee-k'>0:</span><span class='ee-v'>30</span></li><li><span class='ee-k'>1:</span><span class='ee-v'>0</span></li><li><span class='ee-k'>2:</span><span class='ee-v'>305385</span></li><li><span class='ee-k'>3:</span><span class='ee-v'>0</span></li><li><span class='ee-k'>4:</span><span class='ee-v'>-30</span></li><li><span class='ee-k'>5:</span><span class='ee-v'>5690715</span></li></ul></details></li><li><details><summary>data_type: signed int16</summary><ul><li><span class='ee-k'>type:</span><span class='ee-v'>PixelType</span></li><li><span class='ee-k'>max:</span><span class='ee-v'>32767</span></li><li><span class='ee-k'>min:</span><span class='ee-v'>-32768</span></li><li><span class='ee-k'>precision:</span><span class='ee-v'>int</span></li></ul></details></li><li><details><summary>dimensions: [7961, 8051]</summary><ul><li><span class='ee-k'>0:</span><span class='ee-v'>7961</span></li><li><span class='ee-k'>1:</span><span class='ee-v'>8051</span></li></ul></details></li></ul></details></li><li><details><summary>14: \"SZA\", signed int16, EPSG:32634, 7961x8051 px</summary><ul><li><span class='ee-k'>id:</span><span class='ee-v'>SZA</span></li><li><span class='ee-k'>crs:</span><span class='ee-v'>EPSG:32634</span></li><li><details><summary>crs_transform: [30, 0, 305385, 0, -30, 5690715]</summary><ul><li><span class='ee-k'>0:</span><span class='ee-v'>30</span></li><li><span class='ee-k'>1:</span><span class='ee-v'>0</span></li><li><span class='ee-k'>2:</span><span class='ee-v'>305385</span></li><li><span class='ee-k'>3:</span><span class='ee-v'>0</span></li><li><span class='ee-k'>4:</span><span class='ee-v'>-30</span></li><li><span class='ee-k'>5:</span><span class='ee-v'>5690715</span></li></ul></details></li><li><details><summary>data_type: signed int16</summary><ul><li><span class='ee-k'>type:</span><span class='ee-v'>PixelType</span></li><li><span class='ee-k'>max:</span><span class='ee-v'>32767</span></li><li><span class='ee-k'>min:</span><span class='ee-v'>-32768</span></li><li><span class='ee-k'>precision:</span><span class='ee-v'>int</span></li></ul></details></li><li><details><summary>dimensions: [7961, 8051]</summary><ul><li><span class='ee-k'>0:</span><span class='ee-v'>7961</span></li><li><span class='ee-k'>1:</span><span class='ee-v'>8051</span></li></ul></details></li></ul></details></li><li><details><summary>15: \"VAA\", signed int16, EPSG:32634, 7961x8051 px</summary><ul><li><span class='ee-k'>id:</span><span class='ee-v'>VAA</span></li><li><span class='ee-k'>crs:</span><span class='ee-v'>EPSG:32634</span></li><li><details><summary>crs_transform: [30, 0, 305385, 0, -30, 5690715]</summary><ul><li><span class='ee-k'>0:</span><span class='ee-v'>30</span></li><li><span class='ee-k'>1:</span><span class='ee-v'>0</span></li><li><span class='ee-k'>2:</span><span class='ee-v'>305385</span></li><li><span class='ee-k'>3:</span><span class='ee-v'>0</span></li><li><span class='ee-k'>4:</span><span class='ee-v'>-30</span></li><li><span class='ee-k'>5:</span><span class='ee-v'>5690715</span></li></ul></details></li><li><details><summary>data_type: signed int16</summary><ul><li><span class='ee-k'>type:</span><span class='ee-v'>PixelType</span></li><li><span class='ee-k'>max:</span><span class='ee-v'>32767</span></li><li><span class='ee-k'>min:</span><span class='ee-v'>-32768</span></li><li><span class='ee-k'>precision:</span><span class='ee-v'>int</span></li></ul></details></li><li><details><summary>dimensions: [7961, 8051]</summary><ul><li><span class='ee-k'>0:</span><span class='ee-v'>7961</span></li><li><span class='ee-k'>1:</span><span class='ee-v'>8051</span></li></ul></details></li></ul></details></li><li><details><summary>16: \"VZA\", signed int16, EPSG:32634, 7961x8051 px</summary><ul><li><span class='ee-k'>id:</span><span class='ee-v'>VZA</span></li><li><span class='ee-k'>crs:</span><span class='ee-v'>EPSG:32634</span></li><li><details><summary>crs_transform: [30, 0, 305385, 0, -30, 5690715]</summary><ul><li><span class='ee-k'>0:</span><span class='ee-v'>30</span></li><li><span class='ee-k'>1:</span><span class='ee-v'>0</span></li><li><span class='ee-k'>2:</span><span class='ee-v'>305385</span></li><li><span class='ee-k'>3:</span><span class='ee-v'>0</span></li><li><span class='ee-k'>4:</span><span class='ee-v'>-30</span></li><li><span class='ee-k'>5:</span><span class='ee-v'>5690715</span></li></ul></details></li><li><details><summary>data_type: signed int16</summary><ul><li><span class='ee-k'>type:</span><span class='ee-v'>PixelType</span></li><li><span class='ee-k'>max:</span><span class='ee-v'>32767</span></li><li><span class='ee-k'>min:</span><span class='ee-v'>-32768</span></li><li><span class='ee-k'>precision:</span><span class='ee-v'>int</span></li></ul></details></li><li><details><summary>dimensions: [7961, 8051]</summary><ul><li><span class='ee-k'>0:</span><span class='ee-v'>7961</span></li><li><span class='ee-k'>1:</span><span class='ee-v'>8051</span></li></ul></details></li></ul></details></li></ul></details></li><li><details><summary>properties: Object (112 properties)</summary><ul><li><span class='ee-k'>CLOUD_COVER:</span><span class='ee-v'>41.12</span></li><li><span class='ee-k'>CLOUD_COVER_LAND:</span><span class='ee-v'>41.12</span></li><li><span class='ee-k'>COLLECTION_CATEGORY:</span><span class='ee-v'>T1</span></li><li><span class='ee-k'>COLLECTION_NUMBER:</span><span class='ee-v'>2</span></li><li><span class='ee-k'>DATA_SOURCE_ELEVATION:</span><span class='ee-v'>GLS2000</span></li><li><span class='ee-k'>DATA_SOURCE_TIRS_STRAY_LIGHT_CORRECTION:</span><span class='ee-v'>TIRS</span></li><li><span class='ee-k'>DATE_ACQUIRED:</span><span class='ee-v'>2021-08-13</span></li><li><span class='ee-k'>DATE_PRODUCT_GENERATED:</span><span class='ee-v'>1629381894000</span></li><li><span class='ee-k'>DATUM:</span><span class='ee-v'>WGS84</span></li><li><span class='ee-k'>EARTH_SUN_DISTANCE:</span><span class='ee-v'>1.0131446</span></li><li><span class='ee-k'>ELLIPSOID:</span><span class='ee-v'>WGS84</span></li><li><span class='ee-k'>GEOMETRIC_RMSE_MODEL:</span><span class='ee-v'>6.283</span></li><li><span class='ee-k'>GEOMETRIC_RMSE_MODEL_X:</span><span class='ee-v'>4.668</span></li><li><span class='ee-k'>GEOMETRIC_RMSE_MODEL_Y:</span><span class='ee-v'>4.206</span></li><li><span class='ee-k'>GEOMETRIC_RMSE_VERIFY:</span><span class='ee-v'>4.627</span></li><li><span class='ee-k'>GRID_CELL_SIZE_PANCHROMATIC:</span><span class='ee-v'>15</span></li><li><span class='ee-k'>GRID_CELL_SIZE_REFLECTIVE:</span><span class='ee-v'>30</span></li><li><span class='ee-k'>GRID_CELL_SIZE_THERMAL:</span><span class='ee-v'>30</span></li><li><span class='ee-k'>GROUND_CONTROL_POINTS_MODEL:</span><span class='ee-v'>544</span></li><li><span class='ee-k'>GROUND_CONTROL_POINTS_VERIFY:</span><span class='ee-v'>74</span></li><li><span class='ee-k'>GROUND_CONTROL_POINTS_VERSION:</span><span class='ee-v'>5</span></li><li><span class='ee-k'>IMAGE_QUALITY_OLI:</span><span class='ee-v'>9</span></li><li><span class='ee-k'>IMAGE_QUALITY_TIRS:</span><span class='ee-v'>9</span></li><li><span class='ee-k'>K1_CONSTANT_BAND_10:</span><span class='ee-v'>774.8853</span></li><li><span class='ee-k'>K1_CONSTANT_BAND_11:</span><span class='ee-v'>480.8883</span></li><li><span class='ee-k'>K2_CONSTANT_BAND_10:</span><span class='ee-v'>1321.0789</span></li><li><span class='ee-k'>K2_CONSTANT_BAND_11:</span><span class='ee-v'>1201.1442</span></li><li><span class='ee-k'>LANDSAT_PRODUCT_ID:</span><span class='ee-v'>LC08_L1TP_188025_20210813_20210819_02_T1</span></li><li><span class='ee-k'>LANDSAT_SCENE_ID:</span><span class='ee-v'>LC81880252021225LGN00</span></li><li><span class='ee-k'>MAP_PROJECTION:</span><span class='ee-v'>UTM</span></li><li><span class='ee-k'>NADIR_OFFNADIR:</span><span class='ee-v'>NADIR</span></li><li><span class='ee-k'>ORIENTATION:</span><span class='ee-v'>NORTH_UP</span></li><li><span class='ee-k'>PANCHROMATIC_LINES:</span><span class='ee-v'>16101</span></li><li><span class='ee-k'>PANCHROMATIC_SAMPLES:</span><span class='ee-v'>15921</span></li><li><span class='ee-k'>PROCESSING_LEVEL:</span><span class='ee-v'>L1TP</span></li><li><span class='ee-k'>PROCESSING_SOFTWARE_VERSION:</span><span class='ee-v'>LPGS_15.5.0</span></li><li><span class='ee-k'>RADIANCE_ADD_BAND_1:</span><span class='ee-v'>-61.16036</span></li><li><span class='ee-k'>RADIANCE_ADD_BAND_10:</span><span class='ee-v'>0.1</span></li><li><span class='ee-k'>RADIANCE_ADD_BAND_11:</span><span class='ee-v'>0.1</span></li><li><span class='ee-k'>RADIANCE_ADD_BAND_2:</span><span class='ee-v'>-62.62895</span></li><li><span class='ee-k'>RADIANCE_ADD_BAND_3:</span><span class='ee-v'>-57.71204</span></li><li><span class='ee-k'>RADIANCE_ADD_BAND_4:</span><span class='ee-v'>-48.66605</span></li><li><span class='ee-k'>RADIANCE_ADD_BAND_5:</span><span class='ee-v'>-29.78119</span></li><li><span class='ee-k'>RADIANCE_ADD_BAND_6:</span><span class='ee-v'>-7.40631</span></li><li><span class='ee-k'>RADIANCE_ADD_BAND_7:</span><span class='ee-v'>-2.49632</span></li><li><span class='ee-k'>RADIANCE_ADD_BAND_8:</span><span class='ee-v'>-55.07657</span></li><li><span class='ee-k'>RADIANCE_ADD_BAND_9:</span><span class='ee-v'>-11.63917</span></li><li><span class='ee-k'>RADIANCE_MULT_BAND_1:</span><span class='ee-v'>0.012232</span></li><li><span class='ee-k'>RADIANCE_MULT_BAND_10:</span><span class='ee-v'>0.0003342</span></li><li><span class='ee-k'>RADIANCE_MULT_BAND_11:</span><span class='ee-v'>0.0003342</span></li><li><span class='ee-k'>RADIANCE_MULT_BAND_2:</span><span class='ee-v'>0.012526</span></li><li><span class='ee-k'>RADIANCE_MULT_BAND_3:</span><span class='ee-v'>0.011542</span></li><li><span class='ee-k'>RADIANCE_MULT_BAND_4:</span><span class='ee-v'>0.0097332</span></li><li><span class='ee-k'>RADIANCE_MULT_BAND_5:</span><span class='ee-v'>0.0059562</span></li><li><span class='ee-k'>RADIANCE_MULT_BAND_6:</span><span class='ee-v'>0.0014813</span></li><li><span class='ee-k'>RADIANCE_MULT_BAND_7:</span><span class='ee-v'>0.00049926</span></li><li><span class='ee-k'>RADIANCE_MULT_BAND_8:</span><span class='ee-v'>0.011015</span></li><li><span class='ee-k'>RADIANCE_MULT_BAND_9:</span><span class='ee-v'>0.0023278</span></li><li><span class='ee-k'>REFLECTANCE_ADD_BAND_1:</span><span class='ee-v'>-0.1</span></li><li><span class='ee-k'>REFLECTANCE_ADD_BAND_2:</span><span class='ee-v'>-0.1</span></li><li><span class='ee-k'>REFLECTANCE_ADD_BAND_3:</span><span class='ee-v'>-0.1</span></li><li><span class='ee-k'>REFLECTANCE_ADD_BAND_4:</span><span class='ee-v'>-0.1</span></li><li><span class='ee-k'>REFLECTANCE_ADD_BAND_5:</span><span class='ee-v'>-0.1</span></li><li><span class='ee-k'>REFLECTANCE_ADD_BAND_6:</span><span class='ee-v'>-0.1</span></li><li><span class='ee-k'>REFLECTANCE_ADD_BAND_7:</span><span class='ee-v'>-0.1</span></li><li><span class='ee-k'>REFLECTANCE_ADD_BAND_8:</span><span class='ee-v'>-0.1</span></li><li><span class='ee-k'>REFLECTANCE_ADD_BAND_9:</span><span class='ee-v'>-0.1</span></li><li><span class='ee-k'>REFLECTANCE_MULT_BAND_1:</span><span class='ee-v'>2e-05</span></li><li><span class='ee-k'>REFLECTANCE_MULT_BAND_2:</span><span class='ee-v'>2e-05</span></li><li><span class='ee-k'>REFLECTANCE_MULT_BAND_3:</span><span class='ee-v'>2e-05</span></li><li><span class='ee-k'>REFLECTANCE_MULT_BAND_4:</span><span class='ee-v'>2e-05</span></li><li><span class='ee-k'>REFLECTANCE_MULT_BAND_5:</span><span class='ee-v'>2e-05</span></li><li><span class='ee-k'>REFLECTANCE_MULT_BAND_6:</span><span class='ee-v'>2e-05</span></li><li><span class='ee-k'>REFLECTANCE_MULT_BAND_7:</span><span class='ee-v'>2e-05</span></li><li><span class='ee-k'>REFLECTANCE_MULT_BAND_8:</span><span class='ee-v'>2e-05</span></li><li><span class='ee-k'>REFLECTANCE_MULT_BAND_9:</span><span class='ee-v'>2e-05</span></li><li><span class='ee-k'>REFLECTIVE_LINES:</span><span class='ee-v'>8051</span></li><li><span class='ee-k'>REFLECTIVE_SAMPLES:</span><span class='ee-v'>7961</span></li><li><span class='ee-k'>REQUEST_ID:</span><span class='ee-v'>P700y9v54b8bu_00015</span></li><li><span class='ee-k'>RESAMPLING_OPTION:</span><span class='ee-v'>CUBIC_CONVOLUTION</span></li><li><span class='ee-k'>ROLL_ANGLE:</span><span class='ee-v'>-0.001</span></li><li><span class='ee-k'>SATURATION_BAND_1:</span><span class='ee-v'>N</span></li><li><span class='ee-k'>SATURATION_BAND_2:</span><span class='ee-v'>N</span></li><li><span class='ee-k'>SATURATION_BAND_3:</span><span class='ee-v'>N</span></li><li><span class='ee-k'>SATURATION_BAND_4:</span><span class='ee-v'>N</span></li><li><span class='ee-k'>SATURATION_BAND_5:</span><span class='ee-v'>Y</span></li><li><span class='ee-k'>SATURATION_BAND_6:</span><span class='ee-v'>Y</span></li><li><span class='ee-k'>SATURATION_BAND_7:</span><span class='ee-v'>Y</span></li><li><span class='ee-k'>SATURATION_BAND_8:</span><span class='ee-v'>N</span></li><li><span class='ee-k'>SATURATION_BAND_9:</span><span class='ee-v'>N</span></li><li><span class='ee-k'>SCENE_CENTER_TIME:</span><span class='ee-v'>09:32:35.1714439Z</span></li><li><span class='ee-k'>SENSOR_ID:</span><span class='ee-v'>OLI_TIRS</span></li><li><span class='ee-k'>SPACECRAFT_ID:</span><span class='ee-v'>LANDSAT_8</span></li><li><span class='ee-k'>STATION_ID:</span><span class='ee-v'>LGN</span></li><li><span class='ee-k'>SUN_AZIMUTH:</span><span class='ee-v'>151.18189335</span></li><li><span class='ee-k'>SUN_ELEVATION:</span><span class='ee-v'>51.34990906</span></li><li><span class='ee-k'>TARGET_WRS_PATH:</span><span class='ee-v'>188</span></li><li><span class='ee-k'>TARGET_WRS_ROW:</span><span class='ee-v'>25</span></li><li><span class='ee-k'>THERMAL_LINES:</span><span class='ee-v'>8051</span></li><li><span class='ee-k'>THERMAL_SAMPLES:</span><span class='ee-v'>7961</span></li><li><span class='ee-k'>TIRS_SSM_MODEL:</span><span class='ee-v'>FINAL</span></li><li><span class='ee-k'>TIRS_SSM_POSITION_STATUS:</span><span class='ee-v'>ESTIMATED</span></li><li><span class='ee-k'>TRUNCATION_OLI:</span><span class='ee-v'>UPPER</span></li><li><span class='ee-k'>UTM_ZONE:</span><span class='ee-v'>34</span></li><li><span class='ee-k'>WRS_PATH:</span><span class='ee-v'>188</span></li><li><span class='ee-k'>WRS_ROW:</span><span class='ee-v'>25</span></li><li><span class='ee-k'>WRS_TYPE:</span><span class='ee-v'>2</span></li><li><span class='ee-k'>system:asset_size:</span><span class='ee-v'>1338172713</span></li><li><details><summary>system:footprint: LinearRing (21 vertices)</summary><ul><li><span class='ee-k'>type:</span><span class='ee-v'>LinearRing</span></li><li><details><summary>coordinates: List (21 elements)</summary><ul><li><details><summary>0: [21.22499704312194, 50.02579418003837]</summary><ul><li><span class='ee-k'>0:</span><span class='ee-v'>21.22499704312194</span></li><li><span class='ee-k'>1:</span><span class='ee-v'>50.02579418003837</span></li></ul></details></li><li><details><summary>1: [21.280725565124577, 50.14794948957734]</summary><ul><li><span class='ee-k'>0:</span><span class='ee-v'>21.280725565124577</span></li><li><span class='ee-k'>1:</span><span class='ee-v'>50.14794948957734</span></li></ul></details></li><li><details><summary>2: [21.345489163955655, 50.28915747872087]</summary><ul><li><span class='ee-k'>0:</span><span class='ee-v'>21.345489163955655</span></li><li><span class='ee-k'>1:</span><span class='ee-v'>50.28915747872087</span></li></ul></details></li><li><details><summary>3: [21.424395543793853, 50.46036873171513]</summary><ul><li><span class='ee-k'>0:</span><span class='ee-v'>21.424395543793853</span></li><li><span class='ee-k'>1:</span><span class='ee-v'>50.46036873171513</span></li></ul></details></li><li><details><summary>4: [21.565139999785114, 50.76327852322613]</summary><ul><li><span class='ee-k'>0:</span><span class='ee-v'>21.565139999785114</span></li><li><span class='ee-k'>1:</span><span class='ee-v'>50.76327852322613</span></li></ul></details></li><li><details><summary>5: [21.61239954072037, 50.86421017726464]</summary><ul><li><span class='ee-k'>0:</span><span class='ee-v'>21.61239954072037</span></li><li><span class='ee-k'>1:</span><span class='ee-v'>50.86421017726464</span></li></ul></details></li><li><details><summary>6: [21.624640950321677, 50.890482127427916]</summary><ul><li><span class='ee-k'>0:</span><span class='ee-v'>21.624640950321677</span></li><li><span class='ee-k'>1:</span><span class='ee-v'>50.890482127427916</span></li></ul></details></li><li><details><summary>7: [20.690794330640927, 51.06102781309071]</summary><ul><li><span class='ee-k'>0:</span><span class='ee-v'>20.690794330640927</span></li><li><span class='ee-k'>1:</span><span class='ee-v'>51.06102781309071</span></li></ul></details></li><li><details><summary>8: [19.049853655949576, 51.33978655578892]</summary><ul><li><span class='ee-k'>0:</span><span class='ee-v'>19.049853655949576</span></li><li><span class='ee-k'>1:</span><span class='ee-v'>51.33978655578892</span></li></ul></details></li><li><details><summary>9: [18.98744011041587, 51.34982111418477]</summary><ul><li><span class='ee-k'>0:</span><span class='ee-v'>18.98744011041587</span></li><li><span class='ee-k'>1:</span><span class='ee-v'>51.34982111418477</span></li></ul></details></li><li><details><summary>10: [18.813216769218865, 50.925638094200266]</summary><ul><li><span class='ee-k'>0:</span><span class='ee-v'>18.813216769218865</span></li><li><span class='ee-k'>1:</span><span class='ee-v'>50.925638094200266</span></li></ul></details></li><li><details><summary>11: [18.643434547484585, 50.50473248652673]</summary><ul><li><span class='ee-k'>0:</span><span class='ee-v'>18.643434547484585</span></li><li><span class='ee-k'>1:</span><span class='ee-v'>50.50473248652673</span></li></ul></details></li><li><details><summary>12: [18.476529461411328, 50.08359659191967]</summary><ul><li><span class='ee-k'>0:</span><span class='ee-v'>18.476529461411328</span></li><li><span class='ee-k'>1:</span><span class='ee-v'>50.08359659191967</span></li></ul></details></li><li><details><summary>13: [18.30679304296376, 49.64771093028984]</summary><ul><li><span class='ee-k'>0:</span><span class='ee-v'>18.30679304296376</span></li><li><span class='ee-k'>1:</span><span class='ee-v'>49.64771093028984</span></li></ul></details></li><li><details><summary>14: [19.454175125943706, 49.45202329806089]</summary><ul><li><span class='ee-k'>0:</span><span class='ee-v'>19.454175125943706</span></li><li><span class='ee-k'>1:</span><span class='ee-v'>49.45202329806089</span></li></ul></details></li><li><details><summary>15: [20.852424174978474, 49.195819373445524]</summary><ul><li><span class='ee-k'>0:</span><span class='ee-v'>20.852424174978474</span></li><li><span class='ee-k'>1:</span><span class='ee-v'>49.195819373445524</span></li></ul></details></li><li><details><summary>16: [20.87861522151338, 49.25452910570772]</summary><ul><li><span class='ee-k'>0:</span><span class='ee-v'>20.87861522151338</span></li><li><span class='ee-k'>1:</span><span class='ee-v'>49.25452910570772</span></li></ul></details></li><li><details><summary>17: [20.91187523078216, 49.32944414795532]</summary><ul><li><span class='ee-k'>0:</span><span class='ee-v'>20.91187523078216</span></li><li><span class='ee-k'>1:</span><span class='ee-v'>49.32944414795532</span></li></ul></details></li><li><details><summary>18: [21.086849262400108, 49.72080560710715]</summary><ul><li><span class='ee-k'>0:</span><span class='ee-v'>21.086849262400108</span></li><li><span class='ee-k'>1:</span><span class='ee-v'>49.72080560710715</span></li></ul></details></li><li><details><summary>19: [21.158911095620134, 49.88024756595075]</summary><ul><li><span class='ee-k'>0:</span><span class='ee-v'>21.158911095620134</span></li><li><span class='ee-k'>1:</span><span class='ee-v'>49.88024756595075</span></li></ul></details></li><li><details><summary>20: [21.22499704312194, 50.02579418003837]</summary><ul><li><span class='ee-k'>0:</span><span class='ee-v'>21.22499704312194</span></li><li><span class='ee-k'>1:</span><span class='ee-v'>50.02579418003837</span></li></ul></details></li></ul></details></li></ul></details></li><li><span class='ee-k'>system:index:</span><span class='ee-v'>LC08_188025_20210813</span></li><li><span class='ee-k'>system:time_end:</span><span class='ee-v'>1628847155171</span></li><li><span class='ee-k'>system:time_start:</span><span class='ee-v'>1628847155171</span></li></ul></details></li></ul></details></li></ul></div></div>"
      ],
      "text/plain": [
       "<ee.image.Image at 0x19b7b3debb0>"
      ]
     },
     "execution_count": 89,
     "metadata": {},
     "output_type": "execute_result"
    }
   ],
   "source": [
    "image = ee.ImageCollection(\"LANDSAT/LC08/C02/T1\").filterBounds(aoi).filterDate('2021-08-01', '2021-08-31').sort('CLOUDY_PIXEL_PERCENTAGE').first()\n",
    "image"
   ]
  },
  {
   "cell_type": "markdown",
   "id": "f8019cf1",
   "metadata": {},
   "source": [
    "\n",
    "## 🔢 Step 3: Convert DN to Radiance\n",
    "\n",
    "Use the formula:\n",
    "\n",
    "```\n",
    "Radiance = M_L * DN + A_L\n",
    "```\n",
    "\n",
    "Where:\n",
    "- `M_L` is `RADIANCE_MULT_BAND_X` from metadata\n",
    "- `A_L` is `RADIANCE_ADD_BAND_X`\n",
    "- DN is the digital number of each band\n",
    "\n",
    "💡 Tip: You can use `image.get('RADIANCE_MULT_BAND_4')` to retrieve the multiplier for band 4.\n"
   ]
  },
  {
   "cell_type": "code",
   "execution_count": 90,
   "id": "1d087d2b",
   "metadata": {},
   "outputs": [
    {
     "data": {
      "text/html": [
       "\n",
       "            <style>\n",
       "                .geemap-dark {\n",
       "                    --jp-widgets-color: white;\n",
       "                    --jp-widgets-label-color: white;\n",
       "                    --jp-ui-font-color1: white;\n",
       "                    --jp-layout-color2: #454545;\n",
       "                    background-color: #383838;\n",
       "                }\n",
       "\n",
       "                .geemap-dark .jupyter-button {\n",
       "                    --jp-layout-color3: #383838;\n",
       "                }\n",
       "\n",
       "                .geemap-colab {\n",
       "                    background-color: var(--colab-primary-surface-color, white);\n",
       "                }\n",
       "\n",
       "                .geemap-colab .jupyter-button {\n",
       "                    --jp-layout-color3: var(--colab-primary-surface-color, white);\n",
       "                }\n",
       "            </style>\n",
       "            "
      ],
      "text/plain": [
       "<IPython.core.display.HTML object>"
      ]
     },
     "metadata": {},
     "output_type": "display_data"
    }
   ],
   "source": [
    "def radiance_calculator(band):\n",
    "    M_L = ee.Number(image.get(f'RADIANCE_MULT_BAND_{band}'))\n",
    "    A_L = ee.Number(image.get(f'RADIANCE_ADD_BAND_{band}'))\n",
    "    DN = image.select(f'B{band}')\n",
    "    \n",
    "    print(\"M_L: \", M_L.getInfo())\n",
    "    print(\"A_L: \", A_L.getInfo())\n",
    "\n",
    "    radiance = DN.multiply(M_L).add(A_L).rename(f'B{band}_rad')\n",
    "    \n",
    "    return radiance\n"
   ]
  },
  {
   "cell_type": "markdown",
   "id": "29d08a4a",
   "metadata": {},
   "source": [
    "\n",
    "## 📊 Step 4: Convert Radiance to TOA Reflectance\n",
    "\n",
    "Use the following equation from the USGS Landsat Handbook:\n",
    "\n",
    "```\n",
    "TOA Reflectance = (π * L_λ * d²) / (ESUN * cos(θ_s))\n",
    "```\n",
    "\n",
    "Where:\n",
    "- `L_λ` = radiance\n",
    "- `d` = Earth–Sun distance in AU (assume 1.0 for simplification)\n",
    "- `ESUN` = solar spectral irradiance (use constants from handbook)\n",
    "- `θ_s` = solar zenith angle = 90° - sun elevation (from image metadata)\n",
    "\n",
    "Use these ESUN values:\n",
    "- B2: 2067  \n",
    "- B3: 1893  \n",
    "- B4: 1603  \n",
    "- B5: 972\n"
   ]
  },
  {
   "cell_type": "code",
   "execution_count": 91,
   "id": "ccf93212",
   "metadata": {},
   "outputs": [
    {
     "data": {
      "text/html": [
       "\n",
       "            <style>\n",
       "                .geemap-dark {\n",
       "                    --jp-widgets-color: white;\n",
       "                    --jp-widgets-label-color: white;\n",
       "                    --jp-ui-font-color1: white;\n",
       "                    --jp-layout-color2: #454545;\n",
       "                    background-color: #383838;\n",
       "                }\n",
       "\n",
       "                .geemap-dark .jupyter-button {\n",
       "                    --jp-layout-color3: #383838;\n",
       "                }\n",
       "\n",
       "                .geemap-colab {\n",
       "                    background-color: var(--colab-primary-surface-color, white);\n",
       "                }\n",
       "\n",
       "                .geemap-colab .jupyter-button {\n",
       "                    --jp-layout-color3: var(--colab-primary-surface-color, white);\n",
       "                }\n",
       "            </style>\n",
       "            "
      ],
      "text/plain": [
       "<IPython.core.display.HTML object>"
      ]
     },
     "metadata": {},
     "output_type": "display_data"
    },
    {
     "name": "stdout",
     "output_type": "stream",
     "text": [
      "M_L:  0.012526\n",
      "A_L:  -62.62895\n",
      "M_L:  0.011542\n",
      "A_L:  -57.71204\n",
      "M_L:  0.0097332\n",
      "A_L:  -48.66605\n",
      "M_L:  0.0059562\n",
      "A_L:  -29.78119\n"
     ]
    }
   ],
   "source": [
    "ESUN = {\n",
    "    'B2': 2067,\n",
    "    'B3': 1893,\n",
    "    'B4': 1603,\n",
    "    'B5': 972\n",
    "}\n",
    "\n",
    "sun_elevation = ee.Number(image.getInfo().get('properties', {}).get('SUN_ELEVATION'))\n",
    "sun_zenith_rad = ee.Number(90).subtract(sun_elevation).multiply(math.pi).divide(180)\n",
    "cos_theta = sun_zenith_rad.cos()\n",
    "\n",
    "def toa_reflectance(band):\n",
    "    L = ee.Image(radiance_calculator(band))\n",
    "    esun_bn = ee.Number(ESUN[f'B{band}'])\n",
    "    return L.multiply(math.pi).divide(esun_bn.multiply(cos_theta))\n",
    "\n",
    "b2 = toa_reflectance(2)\n",
    "b3 = toa_reflectance(3)\n",
    "b4 = toa_reflectance(4)\n",
    "b5 = toa_reflectance(5)"
   ]
  },
  {
   "cell_type": "markdown",
   "id": "17b48693",
   "metadata": {},
   "source": [
    "\n",
    "## 🖼️ Step 5: Visualize the Results\n",
    "\n",
    "Use `geemap` to create an interactive map. Display:\n",
    "- Original RGB from DN bands\n",
    "- Your manually calculated TOA Reflectance RGB\n",
    "\n",
    "💡 Hint: Use `.clamp(0, 0.4)` on reflectance bands for better visualization.\n"
   ]
  },
  {
   "cell_type": "code",
   "execution_count": 95,
   "id": "b0aaeae2",
   "metadata": {},
   "outputs": [
    {
     "data": {
      "text/html": [
       "\n",
       "            <style>\n",
       "                .geemap-dark {\n",
       "                    --jp-widgets-color: white;\n",
       "                    --jp-widgets-label-color: white;\n",
       "                    --jp-ui-font-color1: white;\n",
       "                    --jp-layout-color2: #454545;\n",
       "                    background-color: #383838;\n",
       "                }\n",
       "\n",
       "                .geemap-dark .jupyter-button {\n",
       "                    --jp-layout-color3: #383838;\n",
       "                }\n",
       "\n",
       "                .geemap-colab {\n",
       "                    background-color: var(--colab-primary-surface-color, white);\n",
       "                }\n",
       "\n",
       "                .geemap-colab .jupyter-button {\n",
       "                    --jp-layout-color3: var(--colab-primary-surface-color, white);\n",
       "                }\n",
       "            </style>\n",
       "            "
      ],
      "text/plain": [
       "<IPython.core.display.HTML object>"
      ]
     },
     "metadata": {},
     "output_type": "display_data"
    },
    {
     "data": {
      "application/vnd.jupyter.widget-view+json": {
       "model_id": "1d47657ecc714fdab647d5268ab098e6",
       "version_major": 2,
       "version_minor": 0
      },
      "text/plain": [
       "Map(center=[50.061634, 19.937803], controls=(WidgetControl(options=['position', 'transparent_bg'], widget=Sear…"
      ]
     },
     "execution_count": 95,
     "metadata": {},
     "output_type": "execute_result"
    }
   ],
   "source": [
    "rgb_dn = image.select(['B4', 'B3', 'B2'])\n",
    "\n",
    "rgb_toa = ee.Image.cat([b2.rename('B2_toa'), b3.rename('B3_toa'), b4.rename('B4_toa'), b5.rename('B5_toa')])\n",
    "rgb_toa = rgb_toa.clamp(0, 0.4)\n",
    "\n",
    "Map = geemap.Map()\n",
    "Map.centerObject(aoi, zoom = 8)\n",
    "Map.addLayer(rgb_dn, {'min': 0, 'max': 10000}, 'RGB Image')\n",
    "Map.addLayer(rgb_toa, {'min': 0, 'max': 0.4}, 'TOA Reflectance RGB')\n",
    "Map"
   ]
  },
  {
   "cell_type": "code",
   "execution_count": null,
   "id": "7f96d0ef",
   "metadata": {},
   "outputs": [
    {
     "data": {
      "text/html": [
       "\n",
       "            <style>\n",
       "                .geemap-dark {\n",
       "                    --jp-widgets-color: white;\n",
       "                    --jp-widgets-label-color: white;\n",
       "                    --jp-ui-font-color1: white;\n",
       "                    --jp-layout-color2: #454545;\n",
       "                    background-color: #383838;\n",
       "                }\n",
       "\n",
       "                .geemap-dark .jupyter-button {\n",
       "                    --jp-layout-color3: #383838;\n",
       "                }\n",
       "\n",
       "                .geemap-colab {\n",
       "                    background-color: var(--colab-primary-surface-color, white);\n",
       "                }\n",
       "\n",
       "                .geemap-colab .jupyter-button {\n",
       "                    --jp-layout-color3: var(--colab-primary-surface-color, white);\n",
       "                }\n",
       "            </style>\n",
       "            "
      ],
      "text/plain": [
       "<IPython.core.display.HTML object>"
      ]
     },
     "metadata": {},
     "output_type": "display_data"
    },
    {
     "data": {
      "application/vnd.jupyter.widget-view+json": {
       "model_id": "88f98a735f164de6a0ac4b1602ea447e",
       "version_major": 2,
       "version_minor": 0
      },
      "text/plain": [
       "Map(center=[50.0647, 19.945], controls=(WidgetControl(options=['position', 'transparent_bg'], widget=SearchDat…"
      ]
     },
     "execution_count": 60,
     "metadata": {},
     "output_type": "execute_result"
    }
   ],
   "source": [
    "rgb_vis_dn = {\n",
    "    'bands': ['B4', 'B3', 'B2'],\n",
    "    'min': 0,\n",
    "    'max': 10000,\n",
    "    'gamma': 1.4\n",
    "}\n",
    "rgb_vis_toa = {\n",
    "    'bands': ['B4_toa', 'B3_toa', 'B2_toa'],\n",
    "    'min': 0.0,\n",
    "    'max': 0.4,\n",
    "    'gamma': 1.2\n",
    "}\n",
    "\n",
    "ndvi_vis = {'min': 0, 'max': 1, 'palette': ['white', 'green']}\n",
    "\n",
    "Map = geemap.Map(center=[50.0647, 19.945], zoom=10)\n",
    "Map.addLayer(image, rgb_vis_dn, 'Original DN RGB')\n",
    "Map.addLayer(toa_image.clamp(0, 0.4), rgb_vis_toa, 'TOA Reflectance RGB')\n",
    "Map.addLayer(ndvi.clip(aoi), ndvi_vis, 'NDVI')\n",
    "Map.addLayer(aoi, {'color': 'red'}, 'AOI – Kraków')\n",
    "\n",
    "Map"
   ]
  },
  {
   "cell_type": "markdown",
   "id": "211ece04",
   "metadata": {},
   "source": [
    "\n",
    "## 🧪 Optional Extensions\n",
    "\n",
    "- Try the same workflow on a different city or biome (e.g., desert, rainforest).\n",
    "- Add NIR band to your analysis (B5).\n",
    "- Compute NDVI from TOA or compare with Surface Reflectance data.\n",
    "- Export the resulting reflectance image to Google Drive.\n"
   ]
  }
 ],
 "metadata": {
  "kernelspec": {
   "display_name": "eo_lab",
   "language": "python",
   "name": "python3"
  },
  "language_info": {
   "codemirror_mode": {
    "name": "ipython",
    "version": 3
   },
   "file_extension": ".py",
   "mimetype": "text/x-python",
   "name": "python",
   "nbconvert_exporter": "python",
   "pygments_lexer": "ipython3",
   "version": "3.9.21"
  }
 },
 "nbformat": 4,
 "nbformat_minor": 5
}
